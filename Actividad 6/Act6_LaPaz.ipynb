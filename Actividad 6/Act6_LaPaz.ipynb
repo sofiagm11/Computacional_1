{
 "cells": [
  {
   "cell_type": "code",
   "execution_count": 1,
   "metadata": {
    "collapsed": true
   },
   "outputs": [],
   "source": [
    "import pandas as pd\n",
    "import numpy as np\n",
    "import matplotlib as plt\n",
    "from pylab import *\n",
    "import scipy\n",
    "from scipy.fftpack import fft,fftfreq, fftshift"
   ]
  },
  {
   "cell_type": "code",
   "execution_count": 2,
   "metadata": {
    "collapsed": true
   },
   "outputs": [],
   "source": [
    "df=pd.read_csv(\"ciccese.csv\",header=int(0))"
   ]
  },
  {
   "cell_type": "code",
   "execution_count": 3,
   "metadata": {
    "collapsed": true
   },
   "outputs": [],
   "source": [
    "from datetime import datetime\n",
    "df['date']= df.apply(lambda x:datetime.strptime(\"{0} {1} {2} {3}\".format(x[u'anio'],x[u'mes'], x[u'dia'], x[u'hora(utc)']), \"%Y %m %d %H\"),axis=1)"
   ]
  },
  {
   "cell_type": "code",
   "execution_count": 4,
   "metadata": {
    "collapsed": false,
    "scrolled": true
   },
   "outputs": [
    {
     "data": {
      "text/html": [
       "<div>\n",
       "<table border=\"1\" class=\"dataframe\">\n",
       "  <thead>\n",
       "    <tr style=\"text-align: right;\">\n",
       "      <th></th>\n",
       "      <th>anio</th>\n",
       "      <th>mes</th>\n",
       "      <th>dia</th>\n",
       "      <th>hora(utc)</th>\n",
       "      <th>altura(mm)</th>\n",
       "      <th>date</th>\n",
       "    </tr>\n",
       "  </thead>\n",
       "  <tbody>\n",
       "    <tr>\n",
       "      <th>0</th>\n",
       "      <td>2016</td>\n",
       "      <td>1</td>\n",
       "      <td>1</td>\n",
       "      <td>0</td>\n",
       "      <td>253</td>\n",
       "      <td>2016-01-01 00:00:00</td>\n",
       "    </tr>\n",
       "    <tr>\n",
       "      <th>1</th>\n",
       "      <td>2016</td>\n",
       "      <td>1</td>\n",
       "      <td>1</td>\n",
       "      <td>1</td>\n",
       "      <td>221</td>\n",
       "      <td>2016-01-01 01:00:00</td>\n",
       "    </tr>\n",
       "    <tr>\n",
       "      <th>2</th>\n",
       "      <td>2016</td>\n",
       "      <td>1</td>\n",
       "      <td>1</td>\n",
       "      <td>2</td>\n",
       "      <td>223</td>\n",
       "      <td>2016-01-01 02:00:00</td>\n",
       "    </tr>\n",
       "    <tr>\n",
       "      <th>3</th>\n",
       "      <td>2016</td>\n",
       "      <td>1</td>\n",
       "      <td>1</td>\n",
       "      <td>3</td>\n",
       "      <td>265</td>\n",
       "      <td>2016-01-01 03:00:00</td>\n",
       "    </tr>\n",
       "    <tr>\n",
       "      <th>4</th>\n",
       "      <td>2016</td>\n",
       "      <td>1</td>\n",
       "      <td>1</td>\n",
       "      <td>4</td>\n",
       "      <td>342</td>\n",
       "      <td>2016-01-01 04:00:00</td>\n",
       "    </tr>\n",
       "  </tbody>\n",
       "</table>\n",
       "</div>"
      ],
      "text/plain": [
       "   anio  mes  dia  hora(utc)  altura(mm)                date\n",
       "0  2016    1    1          0         253 2016-01-01 00:00:00\n",
       "1  2016    1    1          1         221 2016-01-01 01:00:00\n",
       "2  2016    1    1          2         223 2016-01-01 02:00:00\n",
       "3  2016    1    1          3         265 2016-01-01 03:00:00\n",
       "4  2016    1    1          4         342 2016-01-01 04:00:00"
      ]
     },
     "execution_count": 4,
     "metadata": {},
     "output_type": "execute_result"
    }
   ],
   "source": [
    "df.head()"
   ]
  },
  {
   "cell_type": "code",
   "execution_count": 5,
   "metadata": {
    "collapsed": false
   },
   "outputs": [
    {
     "data": {
      "text/html": [
       "<div>\n",
       "<table border=\"1\" class=\"dataframe\">\n",
       "  <thead>\n",
       "    <tr style=\"text-align: right;\">\n",
       "      <th></th>\n",
       "      <th>anio</th>\n",
       "      <th>mes</th>\n",
       "      <th>dia</th>\n",
       "      <th>hora(utc)</th>\n",
       "      <th>altura(mm)</th>\n",
       "    </tr>\n",
       "  </thead>\n",
       "  <tbody>\n",
       "    <tr>\n",
       "      <th>count</th>\n",
       "      <td>1440.0</td>\n",
       "      <td>1440.000000</td>\n",
       "      <td>1440.000000</td>\n",
       "      <td>1440.000000</td>\n",
       "      <td>1440.000000</td>\n",
       "    </tr>\n",
       "    <tr>\n",
       "      <th>mean</th>\n",
       "      <td>2016.0</td>\n",
       "      <td>1.483333</td>\n",
       "      <td>15.516667</td>\n",
       "      <td>11.500000</td>\n",
       "      <td>471.790278</td>\n",
       "    </tr>\n",
       "    <tr>\n",
       "      <th>std</th>\n",
       "      <td>0.0</td>\n",
       "      <td>0.499896</td>\n",
       "      <td>8.687278</td>\n",
       "      <td>6.924591</td>\n",
       "      <td>292.736442</td>\n",
       "    </tr>\n",
       "    <tr>\n",
       "      <th>min</th>\n",
       "      <td>2016.0</td>\n",
       "      <td>1.000000</td>\n",
       "      <td>1.000000</td>\n",
       "      <td>0.000000</td>\n",
       "      <td>-274.000000</td>\n",
       "    </tr>\n",
       "    <tr>\n",
       "      <th>25%</th>\n",
       "      <td>2016.0</td>\n",
       "      <td>1.000000</td>\n",
       "      <td>8.000000</td>\n",
       "      <td>5.750000</td>\n",
       "      <td>294.500000</td>\n",
       "    </tr>\n",
       "    <tr>\n",
       "      <th>50%</th>\n",
       "      <td>2016.0</td>\n",
       "      <td>1.000000</td>\n",
       "      <td>15.500000</td>\n",
       "      <td>11.500000</td>\n",
       "      <td>484.500000</td>\n",
       "    </tr>\n",
       "    <tr>\n",
       "      <th>75%</th>\n",
       "      <td>2016.0</td>\n",
       "      <td>2.000000</td>\n",
       "      <td>23.000000</td>\n",
       "      <td>17.250000</td>\n",
       "      <td>678.000000</td>\n",
       "    </tr>\n",
       "    <tr>\n",
       "      <th>max</th>\n",
       "      <td>2016.0</td>\n",
       "      <td>2.000000</td>\n",
       "      <td>31.000000</td>\n",
       "      <td>23.000000</td>\n",
       "      <td>1214.000000</td>\n",
       "    </tr>\n",
       "  </tbody>\n",
       "</table>\n",
       "</div>"
      ],
      "text/plain": [
       "         anio          mes          dia    hora(utc)   altura(mm)\n",
       "count  1440.0  1440.000000  1440.000000  1440.000000  1440.000000\n",
       "mean   2016.0     1.483333    15.516667    11.500000   471.790278\n",
       "std       0.0     0.499896     8.687278     6.924591   292.736442\n",
       "min    2016.0     1.000000     1.000000     0.000000  -274.000000\n",
       "25%    2016.0     1.000000     8.000000     5.750000   294.500000\n",
       "50%    2016.0     1.000000    15.500000    11.500000   484.500000\n",
       "75%    2016.0     2.000000    23.000000    17.250000   678.000000\n",
       "max    2016.0     2.000000    31.000000    23.000000  1214.000000"
      ]
     },
     "execution_count": 5,
     "metadata": {},
     "output_type": "execute_result"
    }
   ],
   "source": [
    "df.describe()"
   ]
  },
  {
   "cell_type": "code",
   "execution_count": 6,
   "metadata": {
    "collapsed": false
   },
   "outputs": [
    {
     "data": {
      "text/plain": [
       "anio          0\n",
       "mes           0\n",
       "dia           0\n",
       "hora(utc)     0\n",
       "altura(mm)    0\n",
       "date          0\n",
       "dtype: int64"
      ]
     },
     "execution_count": 6,
     "metadata": {},
     "output_type": "execute_result"
    }
   ],
   "source": [
    "df.apply(lambda x: sum(x.isnull()), axis=0)"
   ]
  },
  {
   "cell_type": "code",
   "execution_count": 7,
   "metadata": {
    "collapsed": false
   },
   "outputs": [
    {
     "data": {
      "text/plain": [
       "Index(['anio', 'mes', 'dia', 'hora(utc)', 'altura(mm)', 'date'], dtype='object')"
      ]
     },
     "execution_count": 7,
     "metadata": {},
     "output_type": "execute_result"
    }
   ],
   "source": [
    "df.columns"
   ]
  },
  {
   "cell_type": "code",
   "execution_count": 8,
   "metadata": {
    "collapsed": false
   },
   "outputs": [],
   "source": [
    "df.columns=['anio','mes','dia','hora(utc)','altura(mm)','date']"
   ]
  },
  {
   "cell_type": "code",
   "execution_count": 9,
   "metadata": {
    "collapsed": false
   },
   "outputs": [
    {
     "data": {
      "text/html": [
       "<div>\n",
       "<table border=\"1\" class=\"dataframe\">\n",
       "  <thead>\n",
       "    <tr style=\"text-align: right;\">\n",
       "      <th></th>\n",
       "      <th>anio</th>\n",
       "      <th>mes</th>\n",
       "      <th>dia</th>\n",
       "      <th>hora(utc)</th>\n",
       "      <th>altura(mm)</th>\n",
       "      <th>date</th>\n",
       "    </tr>\n",
       "  </thead>\n",
       "  <tbody>\n",
       "    <tr>\n",
       "      <th>1435</th>\n",
       "      <td>2016</td>\n",
       "      <td>2</td>\n",
       "      <td>29</td>\n",
       "      <td>19</td>\n",
       "      <td>414</td>\n",
       "      <td>2016-02-29 19:00:00</td>\n",
       "    </tr>\n",
       "    <tr>\n",
       "      <th>1436</th>\n",
       "      <td>2016</td>\n",
       "      <td>2</td>\n",
       "      <td>29</td>\n",
       "      <td>20</td>\n",
       "      <td>383</td>\n",
       "      <td>2016-02-29 20:00:00</td>\n",
       "    </tr>\n",
       "    <tr>\n",
       "      <th>1437</th>\n",
       "      <td>2016</td>\n",
       "      <td>2</td>\n",
       "      <td>29</td>\n",
       "      <td>21</td>\n",
       "      <td>339</td>\n",
       "      <td>2016-02-29 21:00:00</td>\n",
       "    </tr>\n",
       "    <tr>\n",
       "      <th>1438</th>\n",
       "      <td>2016</td>\n",
       "      <td>2</td>\n",
       "      <td>29</td>\n",
       "      <td>22</td>\n",
       "      <td>305</td>\n",
       "      <td>2016-02-29 22:00:00</td>\n",
       "    </tr>\n",
       "    <tr>\n",
       "      <th>1439</th>\n",
       "      <td>2016</td>\n",
       "      <td>2</td>\n",
       "      <td>29</td>\n",
       "      <td>23</td>\n",
       "      <td>291</td>\n",
       "      <td>2016-02-29 23:00:00</td>\n",
       "    </tr>\n",
       "  </tbody>\n",
       "</table>\n",
       "</div>"
      ],
      "text/plain": [
       "      anio  mes  dia  hora(utc)  altura(mm)                date\n",
       "1435  2016    2   29         19         414 2016-02-29 19:00:00\n",
       "1436  2016    2   29         20         383 2016-02-29 20:00:00\n",
       "1437  2016    2   29         21         339 2016-02-29 21:00:00\n",
       "1438  2016    2   29         22         305 2016-02-29 22:00:00\n",
       "1439  2016    2   29         23         291 2016-02-29 23:00:00"
      ]
     },
     "execution_count": 9,
     "metadata": {},
     "output_type": "execute_result"
    }
   ],
   "source": [
    "df.tail()"
   ]
  },
  {
   "cell_type": "code",
   "execution_count": 10,
   "metadata": {
    "collapsed": false
   },
   "outputs": [
    {
     "data": {
      "text/html": [
       "<div>\n",
       "<table border=\"1\" class=\"dataframe\">\n",
       "  <thead>\n",
       "    <tr style=\"text-align: right;\">\n",
       "      <th></th>\n",
       "      <th>anio</th>\n",
       "      <th>mes</th>\n",
       "      <th>dia</th>\n",
       "      <th>hora(utc)</th>\n",
       "      <th>altura(mm)</th>\n",
       "    </tr>\n",
       "  </thead>\n",
       "  <tbody>\n",
       "    <tr>\n",
       "      <th>count</th>\n",
       "      <td>1440.0</td>\n",
       "      <td>1440.000000</td>\n",
       "      <td>1440.000000</td>\n",
       "      <td>1440.000000</td>\n",
       "      <td>1440.000000</td>\n",
       "    </tr>\n",
       "    <tr>\n",
       "      <th>mean</th>\n",
       "      <td>2016.0</td>\n",
       "      <td>1.483333</td>\n",
       "      <td>15.516667</td>\n",
       "      <td>11.500000</td>\n",
       "      <td>471.790278</td>\n",
       "    </tr>\n",
       "    <tr>\n",
       "      <th>std</th>\n",
       "      <td>0.0</td>\n",
       "      <td>0.499896</td>\n",
       "      <td>8.687278</td>\n",
       "      <td>6.924591</td>\n",
       "      <td>292.736442</td>\n",
       "    </tr>\n",
       "    <tr>\n",
       "      <th>min</th>\n",
       "      <td>2016.0</td>\n",
       "      <td>1.000000</td>\n",
       "      <td>1.000000</td>\n",
       "      <td>0.000000</td>\n",
       "      <td>-274.000000</td>\n",
       "    </tr>\n",
       "    <tr>\n",
       "      <th>25%</th>\n",
       "      <td>2016.0</td>\n",
       "      <td>1.000000</td>\n",
       "      <td>8.000000</td>\n",
       "      <td>5.750000</td>\n",
       "      <td>294.500000</td>\n",
       "    </tr>\n",
       "    <tr>\n",
       "      <th>50%</th>\n",
       "      <td>2016.0</td>\n",
       "      <td>1.000000</td>\n",
       "      <td>15.500000</td>\n",
       "      <td>11.500000</td>\n",
       "      <td>484.500000</td>\n",
       "    </tr>\n",
       "    <tr>\n",
       "      <th>75%</th>\n",
       "      <td>2016.0</td>\n",
       "      <td>2.000000</td>\n",
       "      <td>23.000000</td>\n",
       "      <td>17.250000</td>\n",
       "      <td>678.000000</td>\n",
       "    </tr>\n",
       "    <tr>\n",
       "      <th>max</th>\n",
       "      <td>2016.0</td>\n",
       "      <td>2.000000</td>\n",
       "      <td>31.000000</td>\n",
       "      <td>23.000000</td>\n",
       "      <td>1214.000000</td>\n",
       "    </tr>\n",
       "  </tbody>\n",
       "</table>\n",
       "</div>"
      ],
      "text/plain": [
       "         anio          mes          dia    hora(utc)   altura(mm)\n",
       "count  1440.0  1440.000000  1440.000000  1440.000000  1440.000000\n",
       "mean   2016.0     1.483333    15.516667    11.500000   471.790278\n",
       "std       0.0     0.499896     8.687278     6.924591   292.736442\n",
       "min    2016.0     1.000000     1.000000     0.000000  -274.000000\n",
       "25%    2016.0     1.000000     8.000000     5.750000   294.500000\n",
       "50%    2016.0     1.000000    15.500000    11.500000   484.500000\n",
       "75%    2016.0     2.000000    23.000000    17.250000   678.000000\n",
       "max    2016.0     2.000000    31.000000    23.000000  1214.000000"
      ]
     },
     "execution_count": 10,
     "metadata": {},
     "output_type": "execute_result"
    }
   ],
   "source": [
    "df.describe()"
   ]
  },
  {
   "cell_type": "code",
   "execution_count": 14,
   "metadata": {
    "collapsed": false
   },
   "outputs": [
    {
     "data": {
      "image/png": "[encoded data removed]",
      "text/plain": [
       "<matplotlib.figure.Figure at 0x7fd7ba7c7438>"
      ]
     },
     "metadata": {},
     "output_type": "display_data"
    }
   ],
   "source": [
    "N_d = 1440\n",
    "T = 1.0\n",
    "#aplicacion de la transformada de Fourier\n",
    "y = df[\"altura(mm)\"] \n",
    "yf = fft(y)\n",
    "xf = fftfreq(N_d, T)\n",
    "xf = fftshift(xf)\n",
    "yplot = fftshift(yf)\n",
    "\n",
    "graf = plt.plot(xf, 2.0/N_d *abs(yplot))\n",
    "plt.xlim(-0.01,0.1)\n",
    "plt.grid(True)\n",
    "\n",
    "plt.xlabel('Frecuencia [1/hora]')\n",
    "plt.ylabel('Amplitud [m]')\n",
    "plt.title('La Paz, BCS')\n",
    "\n",
    "fig = plt.gcf()\n",
    "fig.set_size_inches(9, 5)\n",
    "plt.show()"
   ]
  },
  {
   "cell_type": "code",
   "execution_count": 15,
   "metadata": {
    "collapsed": false
   },
   "outputs": [],
   "source": [
    "a= yf.real[0:30,]/1440 "
   ]
  },
  {
   "cell_type": "code",
   "execution_count": 16,
   "metadata": {
    "collapsed": false
   },
   "outputs": [
    {
     "data": {
      "text/plain": [
       "array([ 471.79027778])"
      ]
     },
     "execution_count": 16,
     "metadata": {},
     "output_type": "execute_result"
    }
   ],
   "source": [
    "a[a[:,] > 10]"
   ]
  },
  {
   "cell_type": "code",
   "execution_count": 17,
   "metadata": {
    "collapsed": false
   },
   "outputs": [
    {
     "data": {
      "text/plain": [
       "array([ 471.79027778+0.j        ,    1.12985391-9.8608946j ,\n",
       "         -3.45653695-8.04288996j, ...,    1.06579576+4.88561728j,\n",
       "         -3.45653695+8.04288996j,    1.12985391+9.8608946j ])"
      ]
     },
     "execution_count": 17,
     "metadata": {},
     "output_type": "execute_result"
    }
   ],
   "source": [
    "yf/1440"
   ]
  },
  {
   "cell_type": "code",
   "execution_count": 18,
   "metadata": {
    "collapsed": false
   },
   "outputs": [],
   "source": [
    "b= np.absolute(yf/1440)"
   ]
  },
  {
   "cell_type": "code",
   "execution_count": 19,
   "metadata": {
    "collapsed": false
   },
   "outputs": [
    {
     "data": {
      "text/plain": [
       "array([ 471.79027778,   16.55341867,   21.66066513,   63.91865375,\n",
       "         10.03781637,   14.76887262,  112.93183969,   22.27997147,\n",
       "         15.35317457,   24.01832666,   12.4444684 ,  118.63969173,\n",
       "         92.03258859,   92.03258859,  118.63969173,   12.4444684 ,\n",
       "         24.01832666,   15.35317457,   22.27997147,  112.93183969,\n",
       "         14.76887262,   10.03781637,   63.91865375,   21.66066513,\n",
       "         16.55341867])"
      ]
     },
     "execution_count": 19,
     "metadata": {},
     "output_type": "execute_result"
    }
   ],
   "source": [
    "b[b[:,] > 10]"
   ]
  },
  {
   "cell_type": "code",
   "execution_count": 20,
   "metadata": {
    "collapsed": false
   },
   "outputs": [
    {
     "name": "stdout",
     "output_type": "stream",
     "text": [
      "(array([   0,   54,   55,   56,   57,   59,   60,   61,   62,  114,  115,\n",
      "        116,  120, 1320, 1324, 1325, 1326, 1378, 1379, 1380, 1381, 1383,\n",
      "       1384, 1385, 1386]),)\n"
     ]
    },
    {
     "data": {
      "text/plain": [
       "array([ 471.79027778,   16.55341867,   21.66066513,   63.91865375,\n",
       "         10.03781637,   14.76887262,  112.93183969,   22.27997147,\n",
       "         15.35317457,   24.01832666,   12.4444684 ,  118.63969173,\n",
       "         92.03258859,   92.03258859,  118.63969173,   12.4444684 ,\n",
       "         24.01832666,   15.35317457,   22.27997147,  112.93183969,\n",
       "         14.76887262,   10.03781637,   63.91865375,   21.66066513,\n",
       "         16.55341867])"
      ]
     },
     "execution_count": 20,
     "metadata": {},
     "output_type": "execute_result"
    }
   ],
   "source": [
    "print(np.where(b[:,]>10))\n",
    "c= b[b[:,]>10]\n",
    "c"
   ]
  },
  {
   "cell_type": "code",
   "execution_count": 21,
   "metadata": {
    "collapsed": false
   },
   "outputs": [
    {
     "name": "stdout",
     "output_type": "stream",
     "text": [
      "\n",
      "Tercer Armónico notorio\n",
      "Amplitud= 63.9186537542\n",
      "frecuencia= 0.0388888888889\n",
      "periodo= 25.7142857143\n",
      "\n",
      "Cuarto armónico notorio\n",
      "Amplitud= 10.0378163695\n",
      "frecuencia= 0.0395833333333\n",
      "periodo= 25.2631578947\n",
      "\n",
      "Quinto armónico notorio\n",
      "Amplitud= 14.7688726244\n",
      "frecuencia= 0.0409722222222\n",
      "periodo= 24.406779661\n",
      "\n",
      "Sexto armónico notorio\n",
      "Amplitud= 112.931839688\n",
      "frecuencia= 0.0416666666667\n",
      "periodo= 24.0\n",
      "\n",
      "Séptimo armónico notorio\n",
      "Amplitud= 22.2799714702\n",
      "frecuencia= 0.0423611111111\n",
      "periodo= 23.606557377\n",
      "\n",
      "Octavo armónico notorio\n",
      "Amplitud= 24.0183266613\n",
      "frecuencia= 0.0791666666667\n",
      "periodo= 12.6315789474\n",
      "\n",
      "Noveno armónico notorio\n",
      "Amplitud= 118.639691727\n",
      "frecuencia= 0.0805555555556\n",
      "periodo= 12.4137931034\n",
      "\n",
      "Décimo armónico notorio\n",
      "Amplitud= 92.0325885854\n",
      "frecuencia= 0.0833333333333\n",
      "periodo= 12.0\n"
     ]
    }
   ],
   "source": [
    "print()\n",
    "print('Tercer Armónico notorio')\n",
    "print('Amplitud=',np.absolute(yf[56,]/1440))\n",
    "print('frecuencia=', xf[int(720 +56),])\n",
    "print('periodo=', 1/xf[int(720 +56),])\n",
    "\n",
    "print()\n",
    "print('Cuarto armónico notorio')\n",
    "print('Amplitud=',np.absolute(yf[57,]/1440))\n",
    "print('frecuencia=', xf[int(720 +57),])\n",
    "print('periodo=', 1/xf[int(720 +57),])\n",
    "\n",
    "print()\n",
    "print('Quinto armónico notorio')\n",
    "print('Amplitud=',np.absolute(yf[59,]/1440))\n",
    "print('frecuencia=', xf[int(720 +59),])\n",
    "print('periodo=', 1/xf[int(720 +59),])\n",
    "\n",
    "print()\n",
    "print('Sexto armónico notorio')\n",
    "print('Amplitud=',np.absolute(yf[60,]/1440))\n",
    "print('frecuencia=', xf[int(720 +60),])\n",
    "print('periodo=', 1/xf[int(720 +60),])\n",
    "\n",
    "print()\n",
    "print('Séptimo armónico notorio')\n",
    "print('Amplitud=',np.absolute(yf[61,]/1440))\n",
    "print('frecuencia=', xf[int(720 +61),])\n",
    "print('periodo=', 1/xf[int(720 +61),])\n",
    "\n",
    "print()\n",
    "print('Octavo armónico notorio')\n",
    "print('Amplitud=',np.absolute(yf[114,]/1440))\n",
    "print('frecuencia=', xf[int(720 +114),])\n",
    "print('periodo=', 1/xf[int(720 +114),])\n",
    "\n",
    "print()\n",
    "print('Noveno armónico notorio')\n",
    "print('Amplitud=',np.absolute(yf[116,]/1440))\n",
    "print('frecuencia=', xf[int(720 +116),])\n",
    "print('periodo=', 1/xf[int(720 +116),])\n",
    "\n",
    "print()\n",
    "print('Décimo armónico notorio')\n",
    "print('Amplitud=',np.absolute(yf[120,]/1440))\n",
    "print('frecuencia=', xf[int(720 +120),])\n",
    "print('periodo=', 1/xf[int(720 +120),])"
   ]
  },
  {
   "cell_type": "code",
   "execution_count": 22,
   "metadata": {
    "collapsed": false
   },
   "outputs": [
    {
     "data": {
      "image/png": "[encoded data removed]",
      "text/plain": [
       "<matplotlib.figure.Figure at 0x7fd7b8476080>"
      ]
     },
     "metadata": {},
     "output_type": "display_data"
    }
   ],
   "source": [
    "fig = plt.gcf()\n",
    "fig.set_size_inches(11, 8)\n",
    "\n",
    "\n",
    "graf = plt.plot(xf, 1.0/1440 *abs(yplot))\n",
    "plt.xlim(-0.01,0.1)\n",
    "plt.grid(True)\n",
    "\n",
    "plt.xlabel('Frecuencia [1/hora]', fontsize=14)\n",
    "plt.ylabel('Amplitud [m]', fontsize=14)\n",
    "plt.title('La Paz, BCS.', fontsize=15)\n",
    "\n",
    "plt.text(0.0388888888889, 63.9186537542, '$O_1$')\n",
    "plt.text(0.0416666666667, 112.931839688, '$P_1$')\n",
    "plt.text(0.0791666666667, 24.0183266613, '$N_2$')\n",
    "plt.text(0.0805555555556, 118.639691727, '$M_2$')\n",
    "plt.text(0.0833333333333, 92.0325885854, '$S_2$')\n",
    "\n",
    "plt.show()"
   ]
  },
  {
   "cell_type": "code",
   "execution_count": null,
   "metadata": {
    "collapsed": true
   },
   "outputs": [],
   "source": []
  }
 ],
 "metadata": {
  "anaconda-cloud": {},
  "kernelspec": {
   "display_name": "Python [default]",
   "language": "python",
   "name": "python3"
  },
  "language_info": {
   "codemirror_mode": {
    "name": "ipython",
    "version": 3
   },
   "file_extension": ".py",
   "mimetype": "text/x-python",
   "name": "python",
   "nbconvert_exporter": "python",
   "pygments_lexer": "ipython3",
   "version": "3.5.2"
  }
 },
 "nbformat": 4,
 "nbformat_minor": 1
}
