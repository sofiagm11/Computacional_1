{
 "cells": [
  {
   "cell_type": "code",
   "execution_count": 1,
   "metadata": {
    "collapsed": true
   },
   "outputs": [],
   "source": [
    "import pandas as pd\n",
    "import numpy as np\n",
    "import matplotlib.pyplot as plt\n",
    "from pylab import *\n",
    "import scipy\n",
    "from scipy.fftpack import fft,fftfreq, fftshift"
   ]
  },
  {
   "cell_type": "code",
   "execution_count": 2,
   "metadata": {
    "collapsed": true
   },
   "outputs": [],
   "source": [
    "df=pd.read_csv(\"2months.csv\",parse_dates=['Date Time'],header=int(0))"
   ]
  },
  {
   "cell_type": "code",
   "execution_count": 3,
   "metadata": {
    "collapsed": false
   },
   "outputs": [
    {
     "data": {
      "text/html": [
       "<div>\n",
       "<table border=\"1\" class=\"dataframe\">\n",
       "  <thead>\n",
       "    <tr style=\"text-align: right;\">\n",
       "      <th></th>\n",
       "      <th>Date Time</th>\n",
       "      <th>Water Level</th>\n",
       "      <th>Sigma</th>\n",
       "      <th>I</th>\n",
       "      <th>L</th>\n",
       "    </tr>\n",
       "  </thead>\n",
       "  <tbody>\n",
       "    <tr>\n",
       "      <th>0</th>\n",
       "      <td>2017-01-01 00:00:00</td>\n",
       "      <td>1.322</td>\n",
       "      <td>0.059</td>\n",
       "      <td>0</td>\n",
       "      <td>0</td>\n",
       "    </tr>\n",
       "    <tr>\n",
       "      <th>1</th>\n",
       "      <td>2017-01-01 01:00:00</td>\n",
       "      <td>1.739</td>\n",
       "      <td>0.075</td>\n",
       "      <td>0</td>\n",
       "      <td>0</td>\n",
       "    </tr>\n",
       "    <tr>\n",
       "      <th>2</th>\n",
       "      <td>2017-01-01 02:00:00</td>\n",
       "      <td>2.096</td>\n",
       "      <td>0.085</td>\n",
       "      <td>0</td>\n",
       "      <td>0</td>\n",
       "    </tr>\n",
       "    <tr>\n",
       "      <th>3</th>\n",
       "      <td>2017-01-01 03:00:00</td>\n",
       "      <td>2.477</td>\n",
       "      <td>0.079</td>\n",
       "      <td>0</td>\n",
       "      <td>0</td>\n",
       "    </tr>\n",
       "    <tr>\n",
       "      <th>4</th>\n",
       "      <td>2017-01-01 04:00:00</td>\n",
       "      <td>2.392</td>\n",
       "      <td>0.082</td>\n",
       "      <td>0</td>\n",
       "      <td>0</td>\n",
       "    </tr>\n",
       "  </tbody>\n",
       "</table>\n",
       "</div>"
      ],
      "text/plain": [
       "            Date Time   Water Level   Sigma   I   L \n",
       "0 2017-01-01 00:00:00         1.322   0.059   0    0\n",
       "1 2017-01-01 01:00:00         1.739   0.075   0    0\n",
       "2 2017-01-01 02:00:00         2.096   0.085   0    0\n",
       "3 2017-01-01 03:00:00         2.477   0.079   0    0\n",
       "4 2017-01-01 04:00:00         2.392   0.082   0    0"
      ]
     },
     "execution_count": 3,
     "metadata": {},
     "output_type": "execute_result"
    }
   ],
   "source": [
    "df.head()"
   ]
  },
  {
   "cell_type": "code",
   "execution_count": 4,
   "metadata": {
    "collapsed": false
   },
   "outputs": [
    {
     "data": {
      "text/html": [
       "<div>\n",
       "<table border=\"1\" class=\"dataframe\">\n",
       "  <thead>\n",
       "    <tr style=\"text-align: right;\">\n",
       "      <th></th>\n",
       "      <th>Water Level</th>\n",
       "      <th>Sigma</th>\n",
       "      <th>I</th>\n",
       "      <th>L</th>\n",
       "    </tr>\n",
       "  </thead>\n",
       "  <tbody>\n",
       "    <tr>\n",
       "      <th>count</th>\n",
       "      <td>1416.000000</td>\n",
       "      <td>1416.000000</td>\n",
       "      <td>1416.0</td>\n",
       "      <td>1416.0</td>\n",
       "    </tr>\n",
       "    <tr>\n",
       "      <th>mean</th>\n",
       "      <td>1.426113</td>\n",
       "      <td>0.079972</td>\n",
       "      <td>0.0</td>\n",
       "      <td>0.0</td>\n",
       "    </tr>\n",
       "    <tr>\n",
       "      <th>std</th>\n",
       "      <td>0.968462</td>\n",
       "      <td>0.083728</td>\n",
       "      <td>0.0</td>\n",
       "      <td>0.0</td>\n",
       "    </tr>\n",
       "    <tr>\n",
       "      <th>min</th>\n",
       "      <td>-1.243000</td>\n",
       "      <td>0.010000</td>\n",
       "      <td>0.0</td>\n",
       "      <td>0.0</td>\n",
       "    </tr>\n",
       "    <tr>\n",
       "      <th>25%</th>\n",
       "      <td>0.753250</td>\n",
       "      <td>0.026000</td>\n",
       "      <td>0.0</td>\n",
       "      <td>0.0</td>\n",
       "    </tr>\n",
       "    <tr>\n",
       "      <th>50%</th>\n",
       "      <td>1.457000</td>\n",
       "      <td>0.043000</td>\n",
       "      <td>0.0</td>\n",
       "      <td>0.0</td>\n",
       "    </tr>\n",
       "    <tr>\n",
       "      <th>75%</th>\n",
       "      <td>2.072500</td>\n",
       "      <td>0.102750</td>\n",
       "      <td>0.0</td>\n",
       "      <td>0.0</td>\n",
       "    </tr>\n",
       "    <tr>\n",
       "      <th>max</th>\n",
       "      <td>4.944000</td>\n",
       "      <td>0.561000</td>\n",
       "      <td>0.0</td>\n",
       "      <td>0.0</td>\n",
       "    </tr>\n",
       "  </tbody>\n",
       "</table>\n",
       "</div>"
      ],
      "text/plain": [
       "        Water Level        Sigma       I      L \n",
       "count   1416.000000  1416.000000  1416.0  1416.0\n",
       "mean       1.426113     0.079972     0.0     0.0\n",
       "std        0.968462     0.083728     0.0     0.0\n",
       "min       -1.243000     0.010000     0.0     0.0\n",
       "25%        0.753250     0.026000     0.0     0.0\n",
       "50%        1.457000     0.043000     0.0     0.0\n",
       "75%        2.072500     0.102750     0.0     0.0\n",
       "max        4.944000     0.561000     0.0     0.0"
      ]
     },
     "execution_count": 4,
     "metadata": {},
     "output_type": "execute_result"
    }
   ],
   "source": [
    "df.describe()"
   ]
  },
  {
   "cell_type": "code",
   "execution_count": 5,
   "metadata": {
    "collapsed": false
   },
   "outputs": [
    {
     "data": {
      "text/plain": [
       "Date Time       0\n",
       " Water Level    0\n",
       " Sigma          0\n",
       " I              0\n",
       " L              0\n",
       "dtype: int64"
      ]
     },
     "execution_count": 5,
     "metadata": {},
     "output_type": "execute_result"
    }
   ],
   "source": [
    "df.apply(lambda x: sum(x.isnull()), axis=0)"
   ]
  },
  {
   "cell_type": "code",
   "execution_count": 6,
   "metadata": {
    "collapsed": false
   },
   "outputs": [],
   "source": [
    "df.columns=['Date Time','Water Level','Sigma','I','L']"
   ]
  },
  {
   "cell_type": "code",
   "execution_count": 7,
   "metadata": {
    "collapsed": true
   },
   "outputs": [],
   "source": [
    "df1=df.loc[abs(df['Water Level']) < 0.09]"
   ]
  },
  {
   "cell_type": "code",
   "execution_count": 8,
   "metadata": {
    "collapsed": false
   },
   "outputs": [
    {
     "data": {
      "text/html": [
       "<div>\n",
       "<table border=\"1\" class=\"dataframe\">\n",
       "  <thead>\n",
       "    <tr style=\"text-align: right;\">\n",
       "      <th></th>\n",
       "      <th>Date Time</th>\n",
       "      <th>Water Level</th>\n",
       "      <th>Sigma</th>\n",
       "      <th>I</th>\n",
       "      <th>L</th>\n",
       "    </tr>\n",
       "  </thead>\n",
       "  <tbody>\n",
       "    <tr>\n",
       "      <th>21</th>\n",
       "      <td>2017-01-01 21:00:00</td>\n",
       "      <td>0.082</td>\n",
       "      <td>0.062</td>\n",
       "      <td>0</td>\n",
       "      <td>0</td>\n",
       "    </tr>\n",
       "    <tr>\n",
       "      <th>47</th>\n",
       "      <td>2017-01-02 23:00:00</td>\n",
       "      <td>-0.013</td>\n",
       "      <td>0.059</td>\n",
       "      <td>0</td>\n",
       "      <td>0</td>\n",
       "    </tr>\n",
       "    <tr>\n",
       "      <th>195</th>\n",
       "      <td>2017-01-09 03:00:00</td>\n",
       "      <td>-0.062</td>\n",
       "      <td>0.299</td>\n",
       "      <td>0</td>\n",
       "      <td>0</td>\n",
       "    </tr>\n",
       "    <tr>\n",
       "      <th>198</th>\n",
       "      <td>2017-01-09 06:00:00</td>\n",
       "      <td>-0.079</td>\n",
       "      <td>0.312</td>\n",
       "      <td>0</td>\n",
       "      <td>0</td>\n",
       "    </tr>\n",
       "    <tr>\n",
       "      <th>220</th>\n",
       "      <td>2017-01-10 04:00:00</td>\n",
       "      <td>-0.066</td>\n",
       "      <td>0.030</td>\n",
       "      <td>0</td>\n",
       "      <td>0</td>\n",
       "    </tr>\n",
       "  </tbody>\n",
       "</table>\n",
       "</div>"
      ],
      "text/plain": [
       "              Date Time  Water Level  Sigma  I  L\n",
       "21  2017-01-01 21:00:00        0.082  0.062  0  0\n",
       "47  2017-01-02 23:00:00       -0.013  0.059  0  0\n",
       "195 2017-01-09 03:00:00       -0.062  0.299  0  0\n",
       "198 2017-01-09 06:00:00       -0.079  0.312  0  0\n",
       "220 2017-01-10 04:00:00       -0.066  0.030  0  0"
      ]
     },
     "execution_count": 8,
     "metadata": {},
     "output_type": "execute_result"
    }
   ],
   "source": [
    "df1.head()"
   ]
  },
  {
   "cell_type": "code",
   "execution_count": 9,
   "metadata": {
    "collapsed": false
   },
   "outputs": [
    {
     "data": {
      "text/html": [
       "<div>\n",
       "<table border=\"1\" class=\"dataframe\">\n",
       "  <thead>\n",
       "    <tr style=\"text-align: right;\">\n",
       "      <th></th>\n",
       "      <th>Date Time</th>\n",
       "      <th>Water Level</th>\n",
       "      <th>Sigma</th>\n",
       "      <th>I</th>\n",
       "      <th>L</th>\n",
       "    </tr>\n",
       "  </thead>\n",
       "  <tbody>\n",
       "    <tr>\n",
       "      <th>1411</th>\n",
       "      <td>2017-02-28 19:00:00</td>\n",
       "      <td>0.358</td>\n",
       "      <td>0.020</td>\n",
       "      <td>0</td>\n",
       "      <td>0</td>\n",
       "    </tr>\n",
       "    <tr>\n",
       "      <th>1412</th>\n",
       "      <td>2017-02-28 20:00:00</td>\n",
       "      <td>-0.056</td>\n",
       "      <td>0.020</td>\n",
       "      <td>0</td>\n",
       "      <td>0</td>\n",
       "    </tr>\n",
       "    <tr>\n",
       "      <th>1413</th>\n",
       "      <td>2017-02-28 21:00:00</td>\n",
       "      <td>-0.581</td>\n",
       "      <td>0.026</td>\n",
       "      <td>0</td>\n",
       "      <td>0</td>\n",
       "    </tr>\n",
       "    <tr>\n",
       "      <th>1414</th>\n",
       "      <td>2017-02-28 22:00:00</td>\n",
       "      <td>-0.413</td>\n",
       "      <td>0.016</td>\n",
       "      <td>0</td>\n",
       "      <td>0</td>\n",
       "    </tr>\n",
       "    <tr>\n",
       "      <th>1415</th>\n",
       "      <td>2017-02-28 23:00:00</td>\n",
       "      <td>0.351</td>\n",
       "      <td>0.030</td>\n",
       "      <td>0</td>\n",
       "      <td>0</td>\n",
       "    </tr>\n",
       "  </tbody>\n",
       "</table>\n",
       "</div>"
      ],
      "text/plain": [
       "               Date Time  Water Level  Sigma  I  L\n",
       "1411 2017-02-28 19:00:00        0.358  0.020  0  0\n",
       "1412 2017-02-28 20:00:00       -0.056  0.020  0  0\n",
       "1413 2017-02-28 21:00:00       -0.581  0.026  0  0\n",
       "1414 2017-02-28 22:00:00       -0.413  0.016  0  0\n",
       "1415 2017-02-28 23:00:00        0.351  0.030  0  0"
      ]
     },
     "execution_count": 9,
     "metadata": {},
     "output_type": "execute_result"
    }
   ],
   "source": [
    "df.tail()"
   ]
  },
  {
   "cell_type": "code",
   "execution_count": 16,
   "metadata": {
    "collapsed": false
   },
   "outputs": [
    {
     "data": {
      "image/png": "[encoded data removed]",
      "text/plain": [
       "<matplotlib.figure.Figure at 0x7f27fa56b2e8>"
      ]
     },
     "metadata": {},
     "output_type": "display_data"
    }
   ],
   "source": [
    "N_d = 1416\n",
    "T = 1.0\n",
    "#aplicacion de la transformada de Fourier\n",
    "y = df[\"Water Level\"] \n",
    "yf = fft(y)\n",
    "xf = fftfreq(N_d, T)\n",
    "xf = fftshift(xf)\n",
    "yplot = fftshift(yf)\n",
    "\n",
    "graf = plt.plot(xf, 2.0/N_d *abs(yplot))\n",
    "plt.xlim(-0.01,0.1)\n",
    "plt.grid(True)\n",
    "\n",
    "plt.xlabel('Frecuencia [1/hora]')\n",
    "plt.ylabel('Amplitud [m]')\n",
    "plt.title('Montauk, New York')\n",
    "\n",
    "fig = plt.gcf()\n",
    "fig.set_size_inches(9, 5)\n",
    "plt.show()"
   ]
  },
  {
   "cell_type": "code",
   "execution_count": 17,
   "metadata": {
    "collapsed": false
   },
   "outputs": [
    {
     "data": {
      "text/plain": [
       "array([ 1.42611299,  0.04683983,  0.12138959, ...,  0.17163394,\n",
       "        0.12138959,  0.04683983])"
      ]
     },
     "execution_count": 17,
     "metadata": {},
     "output_type": "execute_result"
    }
   ],
   "source": [
    "a= np.absolute(yf/1416)\n",
    "a[a[:,] > 0.05]\n",
    "a"
   ]
  },
  {
   "cell_type": "code",
   "execution_count": 18,
   "metadata": {
    "collapsed": false
   },
   "outputs": [
    {
     "name": "stdout",
     "output_type": "stream",
     "text": [
      "(array([   0,    2,    3,    8,   11,   15,  112,  114,  118, 1298, 1302,\n",
      "       1304, 1401, 1405, 1408, 1413, 1414]),)\n"
     ]
    },
    {
     "data": {
      "text/plain": [
       "array([ 1.42611299,  0.12138959,  0.17163394,  0.08951102,  0.05205966,\n",
       "        0.0969621 ,  0.05904996,  0.14634901,  0.08591911,  0.13346315,\n",
       "        0.10156581,  0.06641191,  0.09119693,  0.071934  ,  0.06453766,\n",
       "        0.08965534,  0.11238667,  0.49376693,  0.1107339 ,  0.1107339 ,\n",
       "        0.49376693,  0.11238667,  0.08965534,  0.06453766,  0.071934  ,\n",
       "        0.09119693,  0.06641191,  0.10156581,  0.13346315,  0.08591911,\n",
       "        0.14634901,  0.05904996,  0.0969621 ,  0.05205966,  0.08951102,\n",
       "        0.17163394,  0.12138959])"
      ]
     },
     "execution_count": 18,
     "metadata": {},
     "output_type": "execute_result"
    }
   ],
   "source": [
    "print(np.where(a[:,]>0.1))\n",
    "b= a[a[:,]>0.05]\n",
    "b"
   ]
  },
  {
   "cell_type": "code",
   "execution_count": 19,
   "metadata": {
    "collapsed": false
   },
   "outputs": [
    {
     "name": "stdout",
     "output_type": "stream",
     "text": [
      "Primer Armónico notorio\n",
      "Amplitud= 0.0645376624173\n",
      "frecuencia= 0.0388418079096\n",
      "periodo= 25.7454545455\n",
      "\n",
      "Segundo Armónico notorio\n",
      "Amplitud= 0.0896553374437\n",
      "frecuencia= 0.0416666666667\n",
      "periodo= 24.0\n",
      "\n",
      "Tercer Armónico notorio\n",
      "Amplitud= 0.112386672643\n",
      "frecuencia= 0.0790960451977\n",
      "periodo= 12.6428571429\n",
      "\n",
      "Cuarto Armónico notorio\n",
      "Amplitud= 0.493766933602\n",
      "frecuencia= 0.0805084745763\n",
      "periodo= 12.4210526316\n",
      "\n",
      "Quinto Armónico notorio\n",
      "Amplitud= 0.110733903979\n",
      "frecuencia= 0.0833333333333\n",
      "periodo= 12.0\n"
     ]
    }
   ],
   "source": [
    "print( 'Primer Armónico notorio')\n",
    "print('Amplitud=',np.absolute(yf[55,]/1416))\n",
    "print('frecuencia=', xf[int(708 +55),])\n",
    "print('periodo=', 1/xf[int(708 +55),])\n",
    "\n",
    "print()\n",
    "print('Segundo Armónico notorio')\n",
    "print('Amplitud=',np.absolute(yf[59,]/1416))\n",
    "print('frecuencia=', xf[int(708 +59),])\n",
    "print('periodo=', 1/xf[int(708 +59),])\n",
    "\n",
    "print()\n",
    "print('Tercer Armónico notorio')\n",
    "print('Amplitud=',np.absolute(yf[112,]/1416))\n",
    "print('frecuencia=', xf[int(708 +112),])\n",
    "print('periodo=', 1/xf[int(708 +112),])\n",
    "\n",
    "print()\n",
    "print('Cuarto Armónico notorio')\n",
    "print('Amplitud=',np.absolute(yf[114,]/1416))\n",
    "print('frecuencia=', xf[int(708 +114),])\n",
    "print('periodo=', 1/xf[int(708 +114),])\n",
    "\n",
    "print()\n",
    "print('Quinto Armónico notorio')\n",
    "print('Amplitud=',np.absolute(yf[118,]/1416))\n",
    "print('frecuencia=', xf[int(708 +118),])\n",
    "print('periodo=', 1/xf[int(708 +118),])"
   ]
  },
  {
   "cell_type": "code",
   "execution_count": 20,
   "metadata": {
    "collapsed": false
   },
   "outputs": [
    {
     "data": {
      "image/png": "[encoded data removed]",
      "text/plain": [
       "<matplotlib.figure.Figure at 0x7f27fa5a2e10>"
      ]
     },
     "metadata": {},
     "output_type": "display_data"
    }
   ],
   "source": [
    "fig = plt.gcf()\n",
    "fig.set_size_inches(9, 5)\n",
    "\n",
    "\n",
    "graf = plt.plot(xf, 1.0/1416 *abs(yplot))\n",
    "plt.xlim(-0.01,0.1)\n",
    "plt.grid(True)\n",
    "\n",
    "plt.xlabel('Frecuencia [1/hora]')\n",
    "plt.ylabel('Amplitud [m]')\n",
    "plt.title('Montauk, Nueva York', fontsize=15)\n",
    "\n",
    "plt.text(0.0388418079096, 0.0645376624173, '$O_1$')\n",
    "plt.text(0.0416666666667, 0.0896553374437, '$S_1$')\n",
    "plt.text(0.0790960451977, 0.112386672643, '$N_2$')\n",
    "plt.text(0.0805084745763, 0.493766933602, '$M_2$')\n",
    "plt.text(0.0833333333333, 0.110733903979, '$S_2$')\n",
    "\n",
    "plt.show()"
   ]
  },
  {
   "cell_type": "code",
   "execution_count": null,
   "metadata": {
    "collapsed": true
   },
   "outputs": [],
   "source": []
  }
 ],
 "metadata": {
  "anaconda-cloud": {},
  "kernelspec": {
   "display_name": "Python [default]",
   "language": "python",
   "name": "python3"
  },
  "language_info": {
   "codemirror_mode": {
    "name": "ipython",
    "version": 3
   },
   "file_extension": ".py",
   "mimetype": "text/x-python",
   "name": "python",
   "nbconvert_exporter": "python",
   "pygments_lexer": "ipython3",
   "version": "3.5.2"
  }
 },
 "nbformat": 4,
 "nbformat_minor": 1
}
