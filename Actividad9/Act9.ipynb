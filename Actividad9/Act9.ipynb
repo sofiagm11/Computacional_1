{
 "cells": [
  {
   "cell_type": "code",
   "execution_count": 1,
   "metadata": {
    "collapsed": false
   },
   "outputs": [
    {
     "name": "stderr",
     "output_type": "stream",
     "text": [
      "/opt/anaconda/anaconda3/lib/python3.5/site-packages/matplotlib/font_manager.py:273: UserWarning: Matplotlib is building the font cache using fc-list. This may take a moment.\n",
      "  warnings.warn('Matplotlib is building the font cache using fc-list. This may take a moment.')\n",
      "/opt/anaconda/anaconda3/lib/python3.5/site-packages/matplotlib/font_manager.py:273: UserWarning: Matplotlib is building the font cache using fc-list. This may take a moment.\n",
      "  warnings.warn('Matplotlib is building the font cache using fc-list. This may take a moment.')\n"
     ]
    }
   ],
   "source": [
    "import pynamical\n",
    "from pynamical import simulate, phase_diagram_3d\n",
    "import pandas as pd, numpy as np, matplotlib.pyplot as plt, random, glob, os, IPython.display as IPdisplay\n",
    "from PIL import Image\n",
    "%matplotlib inline"
   ]
  },
  {
   "cell_type": "code",
   "execution_count": 2,
   "metadata": {
    "collapsed": true
   },
   "outputs": [],
   "source": [
    "title_font = pynamical.get_title_font()\n",
    "label_font = pynamical.get_label_font()"
   ]
  },
  {
   "cell_type": "code",
   "execution_count": 3,
   "metadata": {
    "collapsed": true
   },
   "outputs": [],
   "source": [
    "save_folder = 'imagenes/phase-animate'"
   ]
  },
  {
   "cell_type": "code",
   "execution_count": 5,
   "metadata": {
    "collapsed": false
   },
   "outputs": [
    {
     "data": {
      "text/html": [
       "<img src=\"imagenes/phase-animate/animacion01.gif\"/>"
      ],
      "text/plain": [
       "<IPython.core.display.Image object>"
      ]
     },
     "execution_count": 5,
     "metadata": {},
     "output_type": "execute_result"
    }
   ],
   "source": [
    "gif_filename = 'animacion01'\n",
    "working_folder = '{}/{}'.format(save_folder, gif_filename)\n",
    "if not os.path.exists(working_folder):\n",
    "    os.makedirs(working_folder)\n",
    "    \n",
    "pops = simulate(num_gens=1000, rate_min=3.99, num_rates=1)\n",
    "fig, ax = phase_diagram_3d(pops, remove_ticks=False, show=False, save=False)\n",
    "\n",
    "# create 36 frames for the animated gif\n",
    "steps = 36\n",
    "\n",
    "# a viewing perspective is composed of an elevation, distance, and azimuth\n",
    "# define the range of values we'll cycle through for the distance of the viewing perspective\n",
    "min_dist = 7.\n",
    "max_dist = 13.\n",
    "dist_range = np.arange(min_dist, max_dist, (max_dist-min_dist)/steps)\n",
    "\n",
    "# define the range of values we'll cycle through for the elevation of the viewing perspective\n",
    "min_elev = 10.\n",
    "max_elev = 60.\n",
    "elev_range = np.arange(max_elev, min_elev, (min_elev-max_elev)/steps)\n",
    "\n",
    "# now create the individual frames that will be combined later into the animation\n",
    "for azimuth in range(0, 360, int(360/steps)):\n",
    "    \n",
    "    # pan down, rotate around, and zoom out\n",
    "    ax.azim = float(azimuth/3.)\n",
    "    ax.elev = elev_range[int(azimuth/(360./steps))]\n",
    "    ax.dist = dist_range[int(azimuth/(360./steps))]\n",
    "    \n",
    "    # set the figure title to the viewing perspective, and save each figure as a .png\n",
    "    fig.suptitle('elev={:.1f}, azim={:.1f}, dist={:.1f}'.format(ax.elev, ax.azim, ax.dist))\n",
    "    plt.savefig('{}/{}/img{:03d}.png'.format(save_folder, gif_filename, azimuth))\n",
    "    \n",
    "# don't display the static plot...\n",
    "plt.close()\n",
    "\n",
    "# load all the static images into a list then save as an animated gif\n",
    "gif_filepath = '{}/{}.gif'.format(save_folder, gif_filename)\n",
    "images = [Image.open(image) for image in glob.glob('{}/*.png'.format(working_folder))]\n",
    "gif = images[0]\n",
    "gif.info['duration'] = 75 #milliseconds per frame\n",
    "gif.info['loop'] = 0 #how many times to loop (0=infinite)\n",
    "gif.save(fp=gif_filepath, format='gif', save_all=True, append_images=images[1:])\n",
    "IPdisplay.Image(url=gif_filepath)"
   ]
  },
  {
   "cell_type": "code",
   "execution_count": 6,
   "metadata": {
    "collapsed": false
   },
   "outputs": [
    {
     "data": {
      "text/html": [
       "<img src=\"imagenes/phase-animate/gif02.gif\"/>"
      ],
      "text/plain": [
       "<IPython.core.display.Image object>"
      ]
     },
     "execution_count": 6,
     "metadata": {},
     "output_type": "execute_result"
    }
   ],
   "source": [
    "gif_filename = 'gif02'\n",
    "working_folder = '{}/{}'.format(save_folder, gif_filename)\n",
    "if not os.path.exists(working_folder):\n",
    "    os.makedirs(working_folder)\n",
    "    \n",
    "pops = simulate(num_gens=1000, rate_min=3.99, num_rates=1)\n",
    "fig, ax = phase_diagram_3d(pops, color='#ffc200', xlabel='Población (t)', ylabel='Población (t + 1)', zlabel='', \n",
    "                           show=False, save=False)\n",
    "\n",
    "# look straight down at the x-y plane to start off\n",
    "ax.elev = 89.9\n",
    "ax.azim = 270.1\n",
    "ax.dist = 11.0\n",
    "\n",
    "# sweep the perspective down and rotate to reveal the 3-D structure of the strange attractor\n",
    "for n in range(0, 100):\n",
    "    if n > 19 and n < 23:\n",
    "        ax.set_xlabel('')\n",
    "        ax.set_ylabel('') #don't show axis labels while we move around, it looks weird\n",
    "        ax.elev = ax.elev-0.5 #start by panning down slowly\n",
    "    if n > 22 and n < 37:\n",
    "        ax.elev = ax.elev-1.0 #pan down faster\n",
    "    if n > 36 and n < 61:\n",
    "        ax.elev = ax.elev-1.5\n",
    "        ax.azim = ax.azim+1.1 #pan down faster and start to rotate\n",
    "    if n > 60 and n < 65:\n",
    "        ax.elev = ax.elev-1.0\n",
    "        ax.azim = ax.azim+1.1 #pan down slower and rotate same speed\n",
    "    if n > 64 and n < 74:\n",
    "        ax.elev = ax.elev-0.5\n",
    "        ax.azim = ax.azim+1.1 #pan down slowly and rotate same speed\n",
    "    if n > 73 and n < 77:\n",
    "        ax.elev = ax.elev-0.2\n",
    "        ax.azim = ax.azim+0.5 #end by panning/rotating slowly to stopping position   \n",
    "    if n > 76: #add axis labels at the end, when the plot isn't moving around\n",
    "        ax.set_xlabel('Population (t)')\n",
    "        ax.set_ylabel('Population (t + 1)')\n",
    "        ax.set_zlabel('Population (t + 2)')\n",
    "        \n",
    "    # add a figure title to each plot then save the figure to the disk\n",
    "    fig.suptitle('Logistic Map, r=3.99', fontsize=16, x=0.5, y=0.85)\n",
    "    plt.savefig('{}/{}/img{:03d}.png'.format(save_folder, gif_filename, n), bbox_inches='tight')\n",
    "\n",
    "# don't display the static plot\n",
    "plt.close()\n",
    "\n",
    "# load all the static images into a list then save as an animated gif\n",
    "gif_filepath = '{}/{}.gif'.format(save_folder, gif_filename)\n",
    "images = [Image.open(image) for image in glob.glob('{}/*.png'.format(working_folder))]\n",
    "gif = images[0]\n",
    "gif.info['duration'] = 10 #milliseconds per frame\n",
    "gif.info['loop'] = 0 #how many times to loop (0=infinite)\n",
    "gif.save(fp=gif_filepath, format='gif', save_all=True, append_images=images[1:])\n",
    "IPdisplay.Image(url=gif_filepath)"
   ]
  },
  {
   "cell_type": "code",
   "execution_count": 7,
   "metadata": {
    "collapsed": false
   },
   "outputs": [
    {
     "data": {
      "text/html": [
       "<div>\n",
       "<style>\n",
       "    .dataframe thead tr:only-child th {\n",
       "        text-align: right;\n",
       "    }\n",
       "\n",
       "    .dataframe thead th {\n",
       "        text-align: left;\n",
       "    }\n",
       "\n",
       "    .dataframe tbody tr th {\n",
       "        vertical-align: top;\n",
       "    }\n",
       "</style>\n",
       "<table border=\"1\" class=\"dataframe\">\n",
       "  <thead>\n",
       "    <tr style=\"text-align: right;\">\n",
       "      <th></th>\n",
       "      <th>chaos</th>\n",
       "      <th>random</th>\n",
       "    </tr>\n",
       "  </thead>\n",
       "  <tbody>\n",
       "    <tr>\n",
       "      <th>995</th>\n",
       "      <td>0.247214</td>\n",
       "      <td>0.050587</td>\n",
       "    </tr>\n",
       "    <tr>\n",
       "      <th>996</th>\n",
       "      <td>0.742535</td>\n",
       "      <td>0.051677</td>\n",
       "    </tr>\n",
       "    <tr>\n",
       "      <th>997</th>\n",
       "      <td>0.762795</td>\n",
       "      <td>0.370415</td>\n",
       "    </tr>\n",
       "    <tr>\n",
       "      <th>998</th>\n",
       "      <td>0.721947</td>\n",
       "      <td>0.771516</td>\n",
       "    </tr>\n",
       "    <tr>\n",
       "      <th>999</th>\n",
       "      <td>0.800951</td>\n",
       "      <td>0.014516</td>\n",
       "    </tr>\n",
       "  </tbody>\n",
       "</table>\n",
       "</div>"
      ],
      "text/plain": [
       "        chaos    random\n",
       "995  0.247214  0.050587\n",
       "996  0.742535  0.051677\n",
       "997  0.762795  0.370415\n",
       "998  0.721947  0.771516\n",
       "999  0.800951  0.014516"
      ]
     },
     "execution_count": 7,
     "metadata": {},
     "output_type": "execute_result"
    }
   ],
   "source": [
    "chaos_pops = simulate(num_gens=1000, rate_min=3.99, num_rates=1)\n",
    "random_pops = pd.DataFrame([random.random() for _ in range(0, 1000)], columns=['value'])\n",
    "pops = pd.concat([chaos_pops, random_pops], axis=1)\n",
    "pops.columns = ['chaos', 'random']\n",
    "pops.tail()"
   ]
  },
  {
   "cell_type": "code",
   "execution_count": 8,
   "metadata": {
    "collapsed": false
   },
   "outputs": [
    {
     "data": {
      "text/html": [
       "<img src=\"imagenes/phase-animate/03-pan-rotate-logistic-random.gif\"/>"
      ],
      "text/plain": [
       "<IPython.core.display.Image object>"
      ]
     },
     "execution_count": 8,
     "metadata": {},
     "output_type": "execute_result"
    }
   ],
   "source": [
    "gif_filename = '03-pan-rotate-logistic-random'\n",
    "working_folder = '{}/{}'.format(save_folder, gif_filename)\n",
    "if not os.path.exists(working_folder):\n",
    "    os.makedirs(working_folder)\n",
    "    \n",
    "fig, ax = phase_diagram_3d(pops, color=['#ffc200','#87c800'], xlabel='Población (t)', ylabel='Población (t + 1)', \n",
    "                           zlabel='', legend=True, legend_bbox_to_anchor=(0.94, 0.96), show=False, save=False)\n",
    "\n",
    "# configure the initial viewing perspective to look straight down at the x-y plane\n",
    "ax.elev = 89.9\n",
    "ax.azim = 270.1\n",
    "ax.dist = 11.0\n",
    "\n",
    "# sweep the perspective down and rotate to reveal the 3-D structure of the strange attractor\n",
    "for n in range(0, 100):\n",
    "    if n >= 20 and n <= 22:\n",
    "        ax.set_xlabel('')\n",
    "        ax.set_ylabel('') #don't show axis labels while we move around, it looks weird\n",
    "        ax.elev = ax.elev-0.5 #start by panning down slowly\n",
    "    if n >= 23 and n <= 36:\n",
    "        ax.elev = ax.elev-1.0 #pan down faster\n",
    "    if n >= 37 and n <= 60:\n",
    "        ax.elev = ax.elev-1.5\n",
    "        ax.azim = ax.azim+1.1 #pan down faster and start to rotate\n",
    "    if n >= 61 and n <= 64:\n",
    "        ax.elev = ax.elev-1.0\n",
    "        ax.azim = ax.azim+1.1 #pan down slower and rotate same speed\n",
    "    if n >= 65 and n <= 73:\n",
    "        ax.elev = ax.elev-0.5\n",
    "        ax.azim = ax.azim+1.1 #pan down slowly and rotate same speed\n",
    "    if n >= 74 and n <= 76:\n",
    "        ax.elev = ax.elev-0.2\n",
    "        ax.azim = ax.azim+0.5 #end by panning/rotating slowly to stopping position   \n",
    "    if n == 77: #add axis labels at the end, when the plot isn't moving around\n",
    "        ax.set_xlabel('Population (t)')\n",
    "        ax.set_ylabel('Population (t + 1)')\n",
    "        ax.set_zlabel('Population (t + 2)')\n",
    "        \n",
    "    # add a figure title to each plot then save the figure to the disk\n",
    "    fig.suptitle(u'3-D phase diagram, chaos vs random', fontsize=16, x=0.5, y=0.85)\n",
    "    plt.savefig('{}/{}/img{:03d}.png'.format(save_folder, gif_filename, n), bbox_inches='tight')\n",
    "\n",
    "# don't display the static plot\n",
    "plt.close()\n",
    "\n",
    "# load all the static images into a list then save as an animated gif\n",
    "gif_filepath = '{}/{}.gif'.format(save_folder, gif_filename)\n",
    "images = [Image.open(image) for image in glob.glob('{}/*.png'.format(working_folder))]\n",
    "gif = images[0]\n",
    "gif.info['duration'] = 10 #milliseconds per frame\n",
    "gif.info['loop'] = 0 #how many times to loop (0=infinite)\n",
    "gif.save(fp=gif_filepath, format='gif', save_all=True, append_images=images[1:])\n",
    "IPdisplay.Image(url=gif_filepath)"
   ]
  },
  {
   "cell_type": "code",
   "execution_count": 9,
   "metadata": {
    "collapsed": true
   },
   "outputs": [],
   "source": [
    "pops = simulate(num_gens=2000, rate_min=3.6, rate_max=4.0, num_rates=50)"
   ]
  },
  {
   "cell_type": "code",
   "execution_count": 10,
   "metadata": {
    "collapsed": false
   },
   "outputs": [
    {
     "data": {
      "text/html": [
       "<img src=\"imagenes/phase-animate/gif04.gif\"/>"
      ],
      "text/plain": [
       "<IPython.core.display.Image object>"
      ]
     },
     "execution_count": 10,
     "metadata": {},
     "output_type": "execute_result"
    }
   ],
   "source": [
    "gif_filename = 'gif04'\n",
    "working_folder = '{}/{}'.format(save_folder, gif_filename)\n",
    "if not os.path.exists(working_folder):\n",
    "    os.makedirs(working_folder)\n",
    "    \n",
    "fig, ax = phase_diagram_3d(pops, color='viridis', color_reverse=False,\n",
    "                           xlabel='Población (t)', ylabel='Población (t + 1)', zlabel='', \n",
    "                           show=False, save=False)\n",
    "\n",
    "# configure the initial viewing perspective to look straight down at the x-y plane\n",
    "ax.elev = 89.9\n",
    "ax.azim = 270.1\n",
    "ax.dist = 11.0\n",
    "\n",
    "# sweep the perspective down and rotate to reveal the 3-D structure of the strange attractor\n",
    "for n in range(0, 100):\n",
    "    if n > 19 and n < 23:\n",
    "        ax.set_xlabel('')\n",
    "        ax.set_ylabel('') #don't show axis labels while we move around, it looks weird\n",
    "        ax.elev = ax.elev-0.5 #start by panning down slowly\n",
    "    if n > 22 and n < 37:\n",
    "        ax.elev = ax.elev-1.0 #pan down faster\n",
    "    if n > 36 and n < 61:\n",
    "        ax.elev = ax.elev-1.5\n",
    "        ax.azim = ax.azim+1.1 #pan down faster and start to rotate\n",
    "    if n > 60 and n < 65:\n",
    "        ax.elev = ax.elev-1.0\n",
    "        ax.azim = ax.azim+1.1 #pan down slower and rotate same speed\n",
    "    if n > 64 and n < 74:\n",
    "        ax.elev = ax.elev-0.5\n",
    "        ax.azim = ax.azim+1.1 #pan down slowly and rotate same speed\n",
    "    if n > 73 and n < 77:\n",
    "        ax.elev = ax.elev-0.2\n",
    "        ax.azim = ax.azim+0.5 #end by panning/rotating slowly to stopping position\n",
    "    \n",
    "    if n > 76: #add axis labels at the end, when the plot isn't moving around\n",
    "        ax.set_xlabel('Population (t)')\n",
    "        ax.set_ylabel('Population (t + 1)')\n",
    "        ax.set_zlabel('Population (t + 2)')\n",
    "    \n",
    "    # add a figure title to each plot then save the figure to the disk\n",
    "    fig.suptitle('Logistic Map, r=3.6 to r=4.0', fontsize=16, x=0.5, y=0.85)\n",
    "    plt.savefig('{}/{}/img{:03d}.png'.format(save_folder, gif_filename, n), bbox_inches='tight')\n",
    "\n",
    "# don't display the static plot\n",
    "plt.close()\n",
    "\n",
    "# load all the static images into a list then save as an animated gif\n",
    "gif_filepath = '{}/{}.gif'.format(save_folder, gif_filename)\n",
    "images = [Image.open(image) for image in glob.glob('{}/*.png'.format(working_folder))]\n",
    "gif = images[0]\n",
    "gif.info['duration'] = 10 #milliseconds per frame\n",
    "gif.info['loop'] = 0 #how many times to loop (0=infinite)\n",
    "gif.save(fp=gif_filepath, format='gif', save_all=True, append_images=images[1:])\n",
    "IPdisplay.Image(url=gif_filepath)\n"
   ]
  },
  {
   "cell_type": "code",
   "execution_count": null,
   "metadata": {
    "collapsed": true
   },
   "outputs": [],
   "source": []
  }
 ],
 "metadata": {
  "anaconda-cloud": {},
  "kernelspec": {
   "display_name": "Python [default]",
   "language": "python",
   "name": "python3"
  },
  "language_info": {
   "codemirror_mode": {
    "name": "ipython",
    "version": 3
   },
   "file_extension": ".py",
   "mimetype": "text/x-python",
   "name": "python",
   "nbconvert_exporter": "python",
   "pygments_lexer": "ipython3",
   "version": "3.5.2"
  }
 },
 "nbformat": 4,
 "nbformat_minor": 1
}
