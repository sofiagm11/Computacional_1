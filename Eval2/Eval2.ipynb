{
 "cells": [
  {
   "cell_type": "code",
   "execution_count": 66,
   "metadata": {
    "collapsed": true
   },
   "outputs": [],
   "source": [
    "import pandas as pd\n",
    "import numpy as np\n",
    "import matplotlib.pyplot as mplt\n",
    "import pylab as plt\n",
    "from pylab import *\n",
    "import scipy\n",
    "from scipy.fftpack import fft,fftfreq, fftshift"
   ]
  },
  {
   "cell_type": "code",
   "execution_count": 67,
   "metadata": {
    "collapsed": false
   },
   "outputs": [],
   "source": [
    "df = pd.read_csv(\"/home/sofiagm/CompuDatos/Eval1/Eval2/nassa.csv\",names=['Año','Mes','Comb','Manchas','5','6','s'])"
   ]
  },
  {
   "cell_type": "code",
   "execution_count": 71,
   "metadata": {
    "collapsed": false
   },
   "outputs": [
    {
     "data": {
      "text/html": [
       "<div>\n",
       "<table border=\"1\" class=\"dataframe\">\n",
       "  <thead>\n",
       "    <tr style=\"text-align: right;\">\n",
       "      <th></th>\n",
       "      <th>Año</th>\n",
       "      <th>Mes</th>\n",
       "      <th>Comb</th>\n",
       "      <th>Manchas</th>\n",
       "      <th>5</th>\n",
       "      <th>6</th>\n",
       "    </tr>\n",
       "  </thead>\n",
       "  <tbody>\n",
       "    <tr>\n",
       "      <th>0</th>\n",
       "      <td>1749</td>\n",
       "      <td>1</td>\n",
       "      <td>1749.042</td>\n",
       "      <td>96.7</td>\n",
       "      <td>-1.0</td>\n",
       "      <td>-1</td>\n",
       "    </tr>\n",
       "    <tr>\n",
       "      <th>1</th>\n",
       "      <td>1749</td>\n",
       "      <td>2</td>\n",
       "      <td>1749.123</td>\n",
       "      <td>104.3</td>\n",
       "      <td>-1.0</td>\n",
       "      <td>-1</td>\n",
       "    </tr>\n",
       "    <tr>\n",
       "      <th>2</th>\n",
       "      <td>1749</td>\n",
       "      <td>3</td>\n",
       "      <td>1749.204</td>\n",
       "      <td>116.7</td>\n",
       "      <td>-1.0</td>\n",
       "      <td>-1</td>\n",
       "    </tr>\n",
       "    <tr>\n",
       "      <th>3</th>\n",
       "      <td>1749</td>\n",
       "      <td>4</td>\n",
       "      <td>1749.288</td>\n",
       "      <td>92.8</td>\n",
       "      <td>-1.0</td>\n",
       "      <td>-1</td>\n",
       "    </tr>\n",
       "    <tr>\n",
       "      <th>4</th>\n",
       "      <td>1749</td>\n",
       "      <td>5</td>\n",
       "      <td>1749.371</td>\n",
       "      <td>141.7</td>\n",
       "      <td>-1.0</td>\n",
       "      <td>-1</td>\n",
       "    </tr>\n",
       "  </tbody>\n",
       "</table>\n",
       "</div>"
      ],
      "text/plain": [
       "    Año  Mes      Comb  Manchas    5  6\n",
       "0  1749    1  1749.042     96.7 -1.0 -1\n",
       "1  1749    2  1749.123    104.3 -1.0 -1\n",
       "2  1749    3  1749.204    116.7 -1.0 -1\n",
       "3  1749    4  1749.288     92.8 -1.0 -1\n",
       "4  1749    5  1749.371    141.7 -1.0 -1"
      ]
     },
     "execution_count": 71,
     "metadata": {},
     "output_type": "execute_result"
    }
   ],
   "source": [
    "df.head()"
   ]
  },
  {
   "cell_type": "code",
   "execution_count": 69,
   "metadata": {
    "collapsed": false
   },
   "outputs": [
    {
     "data": {
      "text/plain": [
       "Index(['Año', 'Mes', 'Comb', 'Manchas', '5', '6', 's'], dtype='object')"
      ]
     },
     "execution_count": 69,
     "metadata": {},
     "output_type": "execute_result"
    }
   ],
   "source": [
    "df.columns"
   ]
  },
  {
   "cell_type": "code",
   "execution_count": 70,
   "metadata": {
    "collapsed": false
   },
   "outputs": [],
   "source": [
    "del df['s']"
   ]
  },
  {
   "cell_type": "code",
   "execution_count": 72,
   "metadata": {
    "collapsed": false
   },
   "outputs": [
    {
     "data": {
      "text/html": [
       "<div>\n",
       "<table border=\"1\" class=\"dataframe\">\n",
       "  <thead>\n",
       "    <tr style=\"text-align: right;\">\n",
       "      <th></th>\n",
       "      <th>Año</th>\n",
       "      <th>Mes</th>\n",
       "      <th>Comb</th>\n",
       "      <th>Manchas</th>\n",
       "      <th>5</th>\n",
       "      <th>6</th>\n",
       "    </tr>\n",
       "  </thead>\n",
       "  <tbody>\n",
       "    <tr>\n",
       "      <th>count</th>\n",
       "      <td>3213.000000</td>\n",
       "      <td>3213.000000</td>\n",
       "      <td>3213.000000</td>\n",
       "      <td>3213.000000</td>\n",
       "      <td>3213.000000</td>\n",
       "      <td>3213.000000</td>\n",
       "    </tr>\n",
       "    <tr>\n",
       "      <th>mean</th>\n",
       "      <td>1882.375350</td>\n",
       "      <td>6.495798</td>\n",
       "      <td>1882.873012</td>\n",
       "      <td>82.923561</td>\n",
       "      <td>5.610955</td>\n",
       "      <td>89.781201</td>\n",
       "    </tr>\n",
       "    <tr>\n",
       "      <th>std</th>\n",
       "      <td>77.304865</td>\n",
       "      <td>3.451370</td>\n",
       "      <td>77.304802</td>\n",
       "      <td>67.819418</td>\n",
       "      <td>5.234367</td>\n",
       "      <td>185.247160</td>\n",
       "    </tr>\n",
       "    <tr>\n",
       "      <th>min</th>\n",
       "      <td>1749.000000</td>\n",
       "      <td>1.000000</td>\n",
       "      <td>1749.042000</td>\n",
       "      <td>0.000000</td>\n",
       "      <td>-1.000000</td>\n",
       "      <td>-1.000000</td>\n",
       "    </tr>\n",
       "    <tr>\n",
       "      <th>25%</th>\n",
       "      <td>1815.000000</td>\n",
       "      <td>3.000000</td>\n",
       "      <td>1815.958000</td>\n",
       "      <td>25.300000</td>\n",
       "      <td>-1.000000</td>\n",
       "      <td>-1.000000</td>\n",
       "    </tr>\n",
       "    <tr>\n",
       "      <th>50%</th>\n",
       "      <td>1882.000000</td>\n",
       "      <td>6.000000</td>\n",
       "      <td>1882.874000</td>\n",
       "      <td>69.700000</td>\n",
       "      <td>5.400000</td>\n",
       "      <td>30.000000</td>\n",
       "    </tr>\n",
       "    <tr>\n",
       "      <th>75%</th>\n",
       "      <td>1949.000000</td>\n",
       "      <td>9.000000</td>\n",
       "      <td>1949.790000</td>\n",
       "      <td>123.300000</td>\n",
       "      <td>9.400000</td>\n",
       "      <td>31.000000</td>\n",
       "    </tr>\n",
       "    <tr>\n",
       "      <th>max</th>\n",
       "      <td>2016.000000</td>\n",
       "      <td>12.000000</td>\n",
       "      <td>2016.708000</td>\n",
       "      <td>398.200000</td>\n",
       "      <td>23.500000</td>\n",
       "      <td>977.000000</td>\n",
       "    </tr>\n",
       "  </tbody>\n",
       "</table>\n",
       "</div>"
      ],
      "text/plain": [
       "               Año          Mes         Comb      Manchas            5  \\\n",
       "count  3213.000000  3213.000000  3213.000000  3213.000000  3213.000000   \n",
       "mean   1882.375350     6.495798  1882.873012    82.923561     5.610955   \n",
       "std      77.304865     3.451370    77.304802    67.819418     5.234367   \n",
       "min    1749.000000     1.000000  1749.042000     0.000000    -1.000000   \n",
       "25%    1815.000000     3.000000  1815.958000    25.300000    -1.000000   \n",
       "50%    1882.000000     6.000000  1882.874000    69.700000     5.400000   \n",
       "75%    1949.000000     9.000000  1949.790000   123.300000     9.400000   \n",
       "max    2016.000000    12.000000  2016.708000   398.200000    23.500000   \n",
       "\n",
       "                 6  \n",
       "count  3213.000000  \n",
       "mean     89.781201  \n",
       "std     185.247160  \n",
       "min      -1.000000  \n",
       "25%      -1.000000  \n",
       "50%      30.000000  \n",
       "75%      31.000000  \n",
       "max     977.000000  "
      ]
     },
     "execution_count": 72,
     "metadata": {},
     "output_type": "execute_result"
    }
   ],
   "source": [
    "df.describe()"
   ]
  },
  {
   "cell_type": "code",
   "execution_count": 73,
   "metadata": {
    "collapsed": false
   },
   "outputs": [
    {
     "data": {
      "text/plain": [
       "Año        0\n",
       "Mes        0\n",
       "Comb       0\n",
       "Manchas    0\n",
       "5          0\n",
       "6          0\n",
       "dtype: int64"
      ]
     },
     "execution_count": 73,
     "metadata": {},
     "output_type": "execute_result"
    }
   ],
   "source": [
    "df.apply(lambda x: sum(x.isnull()), axis=0)"
   ]
  },
  {
   "cell_type": "code",
   "execution_count": 75,
   "metadata": {
    "collapsed": false
   },
   "outputs": [
    {
     "data": {
      "text/html": [
       "<div>\n",
       "<table border=\"1\" class=\"dataframe\">\n",
       "  <thead>\n",
       "    <tr style=\"text-align: right;\">\n",
       "      <th></th>\n",
       "      <th>Año</th>\n",
       "      <th>Mes</th>\n",
       "      <th>Comb</th>\n",
       "      <th>Manchas</th>\n",
       "      <th>5</th>\n",
       "      <th>6</th>\n",
       "    </tr>\n",
       "  </thead>\n",
       "  <tbody>\n",
       "    <tr>\n",
       "      <th>3208</th>\n",
       "      <td>2016</td>\n",
       "      <td>5</td>\n",
       "      <td>2016.373</td>\n",
       "      <td>52.1</td>\n",
       "      <td>4.7</td>\n",
       "      <td>810</td>\n",
       "    </tr>\n",
       "    <tr>\n",
       "      <th>3209</th>\n",
       "      <td>2016</td>\n",
       "      <td>6</td>\n",
       "      <td>2016.456</td>\n",
       "      <td>20.9</td>\n",
       "      <td>2.2</td>\n",
       "      <td>886</td>\n",
       "    </tr>\n",
       "    <tr>\n",
       "      <th>3210</th>\n",
       "      <td>2016</td>\n",
       "      <td>7</td>\n",
       "      <td>2016.540</td>\n",
       "      <td>32.5</td>\n",
       "      <td>3.7</td>\n",
       "      <td>910</td>\n",
       "    </tr>\n",
       "    <tr>\n",
       "      <th>3211</th>\n",
       "      <td>2016</td>\n",
       "      <td>8</td>\n",
       "      <td>2016.624</td>\n",
       "      <td>50.7</td>\n",
       "      <td>4.4</td>\n",
       "      <td>879</td>\n",
       "    </tr>\n",
       "    <tr>\n",
       "      <th>3212</th>\n",
       "      <td>2016</td>\n",
       "      <td>9</td>\n",
       "      <td>2016.708</td>\n",
       "      <td>44.7</td>\n",
       "      <td>3.8</td>\n",
       "      <td>742</td>\n",
       "    </tr>\n",
       "  </tbody>\n",
       "</table>\n",
       "</div>"
      ],
      "text/plain": [
       "       Año  Mes      Comb  Manchas    5    6\n",
       "3208  2016    5  2016.373     52.1  4.7  810\n",
       "3209  2016    6  2016.456     20.9  2.2  886\n",
       "3210  2016    7  2016.540     32.5  3.7  910\n",
       "3211  2016    8  2016.624     50.7  4.4  879\n",
       "3212  2016    9  2016.708     44.7  3.8  742"
      ]
     },
     "execution_count": 75,
     "metadata": {},
     "output_type": "execute_result"
    }
   ],
   "source": [
    "df.tail()"
   ]
  },
  {
   "cell_type": "code",
   "execution_count": 113,
   "metadata": {
    "collapsed": false
   },
   "outputs": [
    {
     "data": {
      "image/png": "[encoded data removed]",
      "text/plain": [
       "<matplotlib.figure.Figure at 0x7f4924483c18>"
      ]
     },
     "metadata": {},
     "output_type": "display_data"
    }
   ],
   "source": [
    "N = 3213\n",
    "T = 1.0\n",
    "#aplicacion de la transformada de Fourier\n",
    "x = df['Comb']\n",
    "y = df['Manchas'] \n",
    "yf = fft(y)\n",
    "xf = fftfreq(N, T)\n",
    "xf = fftshift(xf)\n",
    "yplot = fftshift(yf)\n",
    "\n",
    "graf = plt.plot(xf, 2.0/N *abs(yplot))\n",
    "plt.xlim(0,0.025)\n",
    "plt.grid(True)\n",
    "\n",
    "fig = plt.gcf()\n",
    "fig.set_size_inches(9, 5)\n",
    "plt.show()"
   ]
  },
  {
   "cell_type": "code",
   "execution_count": 114,
   "metadata": {
    "collapsed": true
   },
   "outputs": [],
   "source": [
    "a=2*np.absolute(yf)/N"
   ]
  },
  {
   "cell_type": "code",
   "execution_count": 124,
   "metadata": {
    "collapsed": false
   },
   "outputs": [
    {
     "name": "stdout",
     "output_type": "stream",
     "text": [
      "(array([   0,    3,    4,   23,   24,   25,   27, 3186, 3188, 3189, 3190,\n",
      "       3209, 3210]),)\n"
     ]
    },
    {
     "data": {
      "text/plain": [
       "array([ 165.84712107,   22.79918361,   15.28281214,   22.67815211,\n",
       "         39.98723321,   35.419832  ,   30.90803788,   30.90803788,\n",
       "         35.419832  ,   39.98723321,   22.67815211,   15.28281214,\n",
       "         22.79918361])"
      ]
     },
     "execution_count": 124,
     "metadata": {},
     "output_type": "execute_result"
    }
   ],
   "source": [
    "print(np.where(a[:,] > 15))\n",
    "b=a[a[:,] > 15]\n",
    "b"
   ]
  },
  {
   "cell_type": "code",
   "execution_count": 134,
   "metadata": {
    "collapsed": true
   },
   "outputs": [],
   "source": [
    "#AMPLITUD\n",
    "A1 = 2.0*np.absolute(yf[int(23),]/N)\n",
    "A2 = 2.0*np.absolute(yf[int(24),]/N)\n",
    "A3 = 2.0*np.absolute(yf[int(25),]/N)\n",
    "\n",
    "#FRECUENCIA\n",
    "f_A1 = xf[int(N/2+23),]\n",
    "f_A2 = xf[int(N/2+24),]\n",
    "f_A3 = xf[int(N/2+25),]\n",
    "\n",
    "#PERIODO\n",
    "T1 = 1/f_A1\n",
    "T2 = 1/f_A2\n",
    "T3 = 1/f_A3"
   ]
  },
  {
   "cell_type": "code",
   "execution_count": 145,
   "metadata": {
    "collapsed": false
   },
   "outputs": [
    {
     "name": "stdout",
     "output_type": "stream",
     "text": [
      "Modo 1\n",
      "Número de manchas= 22.6781521056\n",
      "Frecuencia= 0.00715841892312\n",
      "Periodo= 139.695652174\n",
      "Modo 2\n",
      "Número de manchas= 39.9872332086\n",
      "Frecuencia= 0.00746965452848\n",
      "Periodo= 133.875\n",
      "Modo 3\n",
      "Número de manchas= 35.4198320032\n",
      "Frecuencia= 0.00778089013383\n",
      "Periodo= 128.52\n"
     ]
    }
   ],
   "source": [
    "print('Modo 1')\n",
    "print('Número de manchas=',A1)\n",
    "print('Frecuencia=',f_A1)\n",
    "print('Periodo=',T1)\n",
    "\n",
    "print('Modo 2')\n",
    "print('Número de manchas=',A2)\n",
    "print('Frecuencia=',f_A2)\n",
    "print('Periodo=',T2)\n",
    "\n",
    "print('Modo 3')\n",
    "print('Número de manchas=',A3)\n",
    "print('Frecuencia=',f_A3)\n",
    "print('Periodo=',T3)"
   ]
  },
  {
   "cell_type": "code",
   "execution_count": 163,
   "metadata": {
    "collapsed": false
   },
   "outputs": [
    {
     "data": {
      "image/png": "[encoded data removed]",
      "text/plain": [
       "<matplotlib.figure.Figure at 0x7f4923fbecc0>"
      ]
     },
     "metadata": {},
     "output_type": "display_data"
    }
   ],
   "source": [
    "N = 3213\n",
    "T = 1.0\n",
    "#aplicacion de la transformada de Fourier\n",
    "x = df['Comb']\n",
    "y = df['Manchas'] \n",
    "yf = fft(y)\n",
    "xf = fftfreq(N, T)\n",
    "xf = fftshift(xf)\n",
    "yplot = fftshift(yf)\n",
    "\n",
    "graf = plt.plot(xf, 2.0/N *abs(yplot))\n",
    "plt.xlim(0,0.025)\n",
    "plt.grid(True)\n",
    "\n",
    "plt.title('Ciclo de Actividad Magnética Solar')\n",
    "plt.xlabel('Mes')\n",
    "plt.ylabel('Número de manchas')\n",
    "\n",
    "plt.text(0.00746965452848, 39.9872332086, '1')\n",
    "plt.text(0.008, 39, '2')\n",
    "plt.text(0.0085,30,'3')\n",
    "\n",
    "plt.show()"
   ]
  },
  {
   "cell_type": "code",
   "execution_count": null,
   "metadata": {
    "collapsed": true
   },
   "outputs": [],
   "source": []
  }
 ],
 "metadata": {
  "anaconda-cloud": {},
  "kernelspec": {
   "display_name": "Python [default]",
   "language": "python",
   "name": "python3"
  },
  "language_info": {
   "codemirror_mode": {
    "name": "ipython",
    "version": 3
   },
   "file_extension": ".py",
   "mimetype": "text/x-python",
   "name": "python",
   "nbconvert_exporter": "python",
   "pygments_lexer": "ipython3",
   "version": "3.5.2"
  }
 },
 "nbformat": 4,
 "nbformat_minor": 1
}
